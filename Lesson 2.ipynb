{
 "cells": [
  {
   "cell_type": "markdown",
   "metadata": {},
   "source": [
    "# Lesson 2\n",
    "\n",
    "In Lesson 1 we learned about individual values, and that they have types.\n",
    "\n",
    "Now we learn how to group values together. To model or calculate useful things, we need to write down multiple features or characteristics. For example, a single number like 'age' is not enough to describe a person or even answer many interesting questions about a person.\n",
    "\n",
    "Secondly, in order to work with more complex data, it is necessary to store the data in _variables_. You can then 'read' back the data, or just a part of the data in the group of values.\n",
    "\n",
    "## Lists\n",
    "\n",
    "The most natural \"container\" of multiple values is probably the list.\n",
    "\n",
    "In Python we use square brackets and commas to separate items in a list. Try creating a list and checking the type of a list.\n",
    "\n",
    "```Python\n",
    "[1,2,3]\n",
    "type([1,2,3])\n",
    "```"
   ]
  },
  {
   "cell_type": "code",
   "execution_count": null,
   "metadata": {
    "collapsed": true
   },
   "outputs": [],
   "source": []
  },
  {
   "cell_type": "markdown",
   "metadata": {},
   "source": [
    "Now try a list of mixed types\n",
    "```Python\n",
    "['abc',1,2,3,True]\n",
    "```"
   ]
  },
  {
   "cell_type": "code",
   "execution_count": null,
   "metadata": {
    "collapsed": true
   },
   "outputs": [],
   "source": []
  },
  {
   "cell_type": "markdown",
   "metadata": {},
   "source": [
    "Can you make a 3 item list with your name, school name and grade?"
   ]
  },
  {
   "cell_type": "code",
   "execution_count": null,
   "metadata": {
    "collapsed": true
   },
   "outputs": [],
   "source": []
  },
  {
   "cell_type": "markdown",
   "metadata": {},
   "source": [
    "## Tuples\n",
    "\n",
    "A tuple is a lot like a list. The only difference is that it is easy to add things to a list. Tuples are more like permanent values.\n",
    "\n",
    "The only difference when typing them is using round parenthesis\n",
    "```Python\n",
    "(1,2,3)\n",
    "type((1,2,3))\n",
    "('abc',1,2,3,True)\n",
    "```"
   ]
  },
  {
   "cell_type": "code",
   "execution_count": null,
   "metadata": {
    "collapsed": true
   },
   "outputs": [],
   "source": []
  },
  {
   "cell_type": "markdown",
   "metadata": {},
   "source": [
    "## Dictionaries\n",
    "\n",
    "These are great at storing values when you want to later look things up.  There is a lookup keyword and value.\n",
    "\n",
    "These are more complicated because they are used for keeping track of several related data items. \n",
    "\n",
    "The basic structure is\n",
    "```Python\n",
    "{ key : value }\n",
    "```\n",
    "A dictionary can have multiple keys and values. They are separated by commas:\n",
    "\n",
    "```Python\n",
    "{'Name' : 'Little Bear',\n",
    " 'Address' : '295 Tinker Street',\n",
    " 'Tables' : 15,\n",
    " 'Carryout' : True,\n",
    " 'Delivery' : False\n",
    "}\n",
    "```\n",
    "\n",
    "Practice creating a dictionary, and check the type."
   ]
  },
  {
   "cell_type": "code",
   "execution_count": null,
   "metadata": {
    "collapsed": true
   },
   "outputs": [],
   "source": []
  },
  {
   "cell_type": "markdown",
   "metadata": {},
   "source": [
    "Write a dictionary where the keys are integers 1,2,3,4 and the value is True or False depending on whether the key is even or not."
   ]
  },
  {
   "cell_type": "markdown",
   "metadata": {},
   "source": [
    "## Assigning data to variables\n",
    "\n",
    "Any value you've created so far can be assigned to a _variable_.\n",
    "\n",
    "Later this will be very useful because variables can change values - they can 'vary'.\n",
    "\n",
    "For now you can think of it as a nickname for some complicated data.\n",
    "\n",
    "```Python\n",
    "first='Bob'\n",
    "last='Dylan'\n",
    "first+last\n",
    "```\n",
    "\n",
    "Another example using lists:\n",
    "\n",
    "```Python\n",
    "list1=[1,2,3,4]\n",
    "list2=[5,6,7,8]\n",
    "list1+list2\n",
    "```\n",
    "You can see that if we have very long strings or lists, using a variable is easier than typing or copying all the data all the time."
   ]
  },
  {
   "cell_type": "code",
   "execution_count": null,
   "metadata": {},
   "outputs": [],
   "source": []
  },
  {
   "cell_type": "code",
   "execution_count": null,
   "metadata": {
    "collapsed": true
   },
   "outputs": [],
   "source": []
  },
  {
   "cell_type": "markdown",
   "metadata": {},
   "source": [
    "Now assign the dictionary for the Little Bear restaurant to a variable named 'yum'."
   ]
  },
  {
   "cell_type": "code",
   "execution_count": null,
   "metadata": {
    "collapsed": true
   },
   "outputs": [],
   "source": []
  },
  {
   "cell_type": "markdown",
   "metadata": {},
   "source": [
    "### Reading values from a dictionary\n",
    "Remember we said that dictionaries have keys or keywords. This is so that it's easy to up the values that go with the key.\n",
    "\n",
    "To get the address for the restaurant in the variable yum, you use the key and square brackets.\n",
    "```Python\n",
    "yum['Address']\n",
    "```\n",
    "\n",
    "Using this \"key lookup\" answer the question of whether or not the restaurant does delivery."
   ]
  },
  {
   "cell_type": "code",
   "execution_count": null,
   "metadata": {
    "collapsed": true
   },
   "outputs": [],
   "source": []
  },
  {
   "cell_type": "markdown",
   "metadata": {},
   "source": [
    "### Reading values from a list or tuples\n",
    "\n",
    "This is almost the same as a dictionary. You use square brackets. Even though you never typed in a \"key\" when you created the list or tuple, there is one. The key is an integer starting at 0, and goes up from there until the end of the list. That is, you can think of the keys of a list or tuple to be 0,1,2,3... until the end.\n",
    "\n",
    "Try this\n",
    "\n",
    "```Python\n",
    "list1[0]\n",
    "```\n",
    "\n",
    "How would you get the 3rd item in the list?"
   ]
  },
  {
   "cell_type": "code",
   "execution_count": null,
   "metadata": {},
   "outputs": [],
   "source": []
  },
  {
   "cell_type": "code",
   "execution_count": null,
   "metadata": {},
   "outputs": [],
   "source": []
  },
  {
   "cell_type": "markdown",
   "metadata": {},
   "source": [
    "## Homework\n",
    "\n",
    "1. Google your favorite recipe and find the ingredients\n",
    "1. Each ingredient should have a number for the amount, a unit for the amount and the name of the ingredient. For example in \"1 cup of flour\" the amount is 1, the unit is cups and the ingredient name is flour. For something like \"2 eggs\" use the word \"count\" for the unit.\n",
    "1. Create list of tuples for the recipe. Each tuple should have the number, unit and name. Put the tuples in a list to capture the entire ingredient list.\n",
    "1. Assign your list to a variable called ingredients."
   ]
  }
 ],
 "metadata": {
  "kernelspec": {
   "display_name": "Python 3",
   "language": "python",
   "name": "python3"
  },
  "language_info": {
   "codemirror_mode": {
    "name": "ipython",
    "version": 3
   },
   "file_extension": ".py",
   "mimetype": "text/x-python",
   "name": "python",
   "nbconvert_exporter": "python",
   "pygments_lexer": "ipython3",
   "version": "3.6.3"
  }
 },
 "nbformat": 4,
 "nbformat_minor": 2
}
