{
 "cells": [
  {
   "cell_type": "markdown",
   "metadata": {},
   "source": [
    "# Lesson 1\n",
    "\n",
    "Two goals:\n",
    "1. Get familiar with Jupyter\n",
    "1. Different types of values (data)\n",
    "\n",
    "## Step 1\n",
    "Enter some math expression in a Jupyter cell. Press Control+Enter to for it to calculate.\n",
    "\n",
    "For example\n",
    "```python\n",
    "1+1\n",
    "2\n",
    "```"
   ]
  },
  {
   "cell_type": "code",
   "execution_count": null,
   "metadata": {},
   "outputs": [],
   "source": [
    "1+1"
   ]
  },
  {
   "cell_type": "code",
   "execution_count": null,
   "metadata": {
    "collapsed": true
   },
   "outputs": [],
   "source": [
    "24*3"
   ]
  },
  {
   "cell_type": "markdown",
   "metadata": {},
   "source": [
    "Try some of your own.\n",
    "\n",
    "To create a new cell, use the \"+\" button by the menu, or use Esc-B."
   ]
  },
  {
   "cell_type": "code",
   "execution_count": null,
   "metadata": {
    "collapsed": true
   },
   "outputs": [],
   "source": []
  },
  {
   "cell_type": "code",
   "execution_count": null,
   "metadata": {
    "collapsed": true
   },
   "outputs": [],
   "source": []
  },
  {
   "cell_type": "markdown",
   "metadata": {},
   "source": [
    "## Step 2\n",
    "\n",
    "Now try this for division\n",
    "```python\n",
    "1//2\n",
    "```\n",
    "Did you get what you expected?"
   ]
  },
  {
   "cell_type": "code",
   "execution_count": null,
   "metadata": {},
   "outputs": [],
   "source": [
    "1//2"
   ]
  },
  {
   "cell_type": "markdown",
   "metadata": {},
   "source": [
    "Computer languages treat integers and decimals as different types.\n",
    "\n",
    "In Python you can just \"ask\" what the data type is.\n",
    "```Python\n",
    "type(1)\n",
    "type(1.0)\n",
    "```\n",
    "You'll see that \"decimal\" numbers are called  \"float\". (The reason for that term is technical....)"
   ]
  },
  {
   "cell_type": "code",
   "execution_count": null,
   "metadata": {},
   "outputs": [],
   "source": [
    "type(1)"
   ]
  },
  {
   "cell_type": "code",
   "execution_count": null,
   "metadata": {
    "collapsed": true
   },
   "outputs": [],
   "source": [
    "type(1.0)"
   ]
  },
  {
   "cell_type": "markdown",
   "metadata": {},
   "source": [
    "Now try\n",
    "```Python\n",
    "1.0/2.0\n",
    "```\n",
    "and \n",
    "```Python\n",
    "1/2\n",
    "```\n",
    "* In the first case we divide two floats.\n",
    "* In the second, a single / means to do \"floating division\"\n",
    "  * A double // means do \"integer division\""
   ]
  },
  {
   "cell_type": "markdown",
   "metadata": {},
   "source": [
    "## Other data types\n",
    "\n",
    "Besides integer and float there are\n",
    "\n",
    "### Strings\n",
    "Short for \"string of letters\"\n",
    "```Python\n",
    "'abcdef'\n",
    "type('abcdef')\n",
    "```"
   ]
  },
  {
   "cell_type": "code",
   "execution_count": null,
   "metadata": {},
   "outputs": [],
   "source": [
    "type('abcdef')"
   ]
  },
  {
   "cell_type": "markdown",
   "metadata": {},
   "source": [
    "What happens if you add two strings?\n",
    "```Python\n",
    "'Hello'+'World'\n",
    "```"
   ]
  },
  {
   "cell_type": "code",
   "execution_count": null,
   "metadata": {},
   "outputs": [],
   "source": [
    "'Hello'+'World'"
   ]
  },
  {
   "cell_type": "markdown",
   "metadata": {},
   "source": [
    "### Boolean\n",
    "\n",
    "These are very simple for humans but very useful for computers and programming. Only two values are possible: True and False.\n",
    "\n",
    "Try the following\n",
    "```Python\n",
    "type(True)\n",
    "True and False\n",
    "True or False\n",
    "not True\n",
    "```"
   ]
  },
  {
   "cell_type": "code",
   "execution_count": null,
   "metadata": {},
   "outputs": [],
   "source": []
  },
  {
   "cell_type": "markdown",
   "metadata": {},
   "source": [
    "# Homework\n",
    "\n",
    "Pick or make up some math problems and use Jupyter as a calculator.\n",
    "\n",
    "Maybe pick some advanced ones and ask for help. It's good to be curious and not just follow instructions :-)"
   ]
  }
 ],
 "metadata": {
  "kernelspec": {
   "display_name": "Python 3",
   "language": "python",
   "name": "python3"
  },
  "language_info": {
   "codemirror_mode": {
    "name": "ipython",
    "version": 3
   },
   "file_extension": ".py",
   "mimetype": "text/x-python",
   "name": "python",
   "nbconvert_exporter": "python",
   "pygments_lexer": "ipython3",
   "version": "3.6.3"
  }
 },
 "nbformat": 4,
 "nbformat_minor": 2
}
